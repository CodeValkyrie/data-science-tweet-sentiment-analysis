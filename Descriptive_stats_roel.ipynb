{
 "cells": [
  {
   "cell_type": "code",
   "execution_count": 5,
   "metadata": {},
   "outputs": [],
   "source": [
    "# Imports all the libraries required\n",
    "import os\n",
    "import json\n",
    "import numpy as np\n",
    "import pandas as pd\n",
    "import matplotlib.pyplot as plt\n",
    "import matplotlib.cm as cm\n",
    "import geopy\n",
    "from matplotlib.colors import rgb2hex\n",
    "from descartes import PolygonPatch\n",
    "from shapely.geometry import Polygon, MultiPolygon\n",
    "from collections import Counter"
   ]
  },
  {
   "cell_type": "code",
   "execution_count": 4,
   "metadata": {},
   "outputs": [
    {
     "data": {
      "text/html": [
       "<div>\n",
       "<style scoped>\n",
       "    .dataframe tbody tr th:only-of-type {\n",
       "        vertical-align: middle;\n",
       "    }\n",
       "\n",
       "    .dataframe tbody tr th {\n",
       "        vertical-align: top;\n",
       "    }\n",
       "\n",
       "    .dataframe thead th {\n",
       "        text-align: right;\n",
       "    }\n",
       "</style>\n",
       "<table border=\"1\" class=\"dataframe\">\n",
       "  <thead>\n",
       "    <tr style=\"text-align: right;\">\n",
       "      <th></th>\n",
       "      <th>text</th>\n",
       "      <th>followers_count</th>\n",
       "    </tr>\n",
       "  </thead>\n",
       "  <tbody>\n",
       "    <tr>\n",
       "      <th>0</th>\n",
       "      <td>['barackobama', 'fbi', 'lorettalynch', 'all', ...</td>\n",
       "      <td>531</td>\n",
       "    </tr>\n",
       "    <tr>\n",
       "      <th>1</th>\n",
       "      <td>['cnn', 'newday', 'clear', 'trump', 'deliberat...</td>\n",
       "      <td>2652</td>\n",
       "    </tr>\n",
       "    <tr>\n",
       "      <th>2</th>\n",
       "      <td>['realdonaldtrump', 'recognize', 'lie', 'came'...</td>\n",
       "      <td>183</td>\n",
       "    </tr>\n",
       "    <tr>\n",
       "      <th>3</th>\n",
       "      <td>['kid', 'know', 'suing', 'someone', 'thats', '...</td>\n",
       "      <td>159</td>\n",
       "    </tr>\n",
       "    <tr>\n",
       "      <th>4</th>\n",
       "      <td>['hillaryclinton', 'cofounder', 'isi', 'crooke...</td>\n",
       "      <td>68</td>\n",
       "    </tr>\n",
       "  </tbody>\n",
       "</table>\n",
       "</div>"
      ],
      "text/plain": [
       "                                                text  followers_count\n",
       "0  ['barackobama', 'fbi', 'lorettalynch', 'all', ...              531\n",
       "1  ['cnn', 'newday', 'clear', 'trump', 'deliberat...             2652\n",
       "2  ['realdonaldtrump', 'recognize', 'lie', 'came'...              183\n",
       "3  ['kid', 'know', 'suing', 'someone', 'thats', '...              159\n",
       "4  ['hillaryclinton', 'cofounder', 'isi', 'crooke...               68"
      ]
     },
     "execution_count": 4,
     "metadata": {},
     "output_type": "execute_result"
    }
   ],
   "source": [
    "df = pd.read_csv('cleaned_data.csv', index_col=0)\n",
    "df.head()"
   ]
  },
  {
   "cell_type": "code",
   "execution_count": 7,
   "metadata": {},
   "outputs": [
    {
     "name": "stdout",
     "output_type": "stream",
     "text": [
      "MO\n"
     ]
    }
   ],
   "source": [
    "# in the 'user' 'id_string', field, the format is a 9 digit string of numbers which uniquely identifies the tweeter\n",
    "id_instances = []\n",
    "\n",
    "# making a list of the userid of each tweet in the dataset\n",
    "for userid in 'path to dataframe:\n",
    "    userid = 'df path to userid'\n",
    "    num_followers = 'df path to number of followers'\n",
    "    id_instances.append(userid)\n",
    "    \n",
    "# All unique ID strings, aka all unique users in the dataset\n",
    "IDs = Counter(id_instances).keys()\n",
    "# How many times each ID occurs, aka number of tweets per user.\n",
    "Tweet_frequency = Counter(id_instances).values()\n",
    "\n",
    "id_data = pd.DataFrame({'ID': IDs,'frequency': Tweet_frequency})\n",
    "\n",
    "#followers, in the 'user' 'followers_count' field: checks each tweet until it matches the first unique entry listed\n",
    "#in the IDs list, then puts that ID together with its followers in a dict. It then searches for the second unique\n",
    "#user and fetches their followers.\n",
    "\n",
    "follower_count_dict = {}\n",
    "x = 0\n",
    "for id_instance in 'df path to userid':\n",
    "    if id_instance == IDs[x]:\n",
    "        follower_count_dict['id_instance'] = 'path to followers'\n",
    "        x += 1\n",
    "    else:\n",
    "        pass\n",
    "    \n",
    "# Making a new column mapping the follower count onto the right user:\n",
    "    \n",
    "id_data['followers'] = id_data['ID'].map(follower_count_dict)\n",
    "\n",
    "    \n",
    "    "
   ]
  },
  {
   "cell_type": "code",
   "execution_count": null,
   "metadata": {},
   "outputs": [],
   "source": []
  }
 ],
 "metadata": {
  "kernelspec": {
   "display_name": "Python 3",
   "language": "python",
   "name": "python3"
  },
  "language_info": {
   "codemirror_mode": {
    "name": "ipython",
    "version": 3
   },
   "file_extension": ".py",
   "mimetype": "text/x-python",
   "name": "python",
   "nbconvert_exporter": "python",
   "pygments_lexer": "ipython3",
   "version": "3.8.3"
  }
 },
 "nbformat": 4,
 "nbformat_minor": 4
}
